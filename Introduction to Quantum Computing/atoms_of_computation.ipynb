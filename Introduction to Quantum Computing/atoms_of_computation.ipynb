{
 "cells": [
  {
   "attachments": {},
   "cell_type": "markdown",
   "metadata": {},
   "source": [
    "### Creating the first circuit"
   ]
  },
  {
   "cell_type": "code",
   "execution_count": null,
   "metadata": {},
   "outputs": [],
   "source": [
    "from qiskit import QuantumCircuit\n",
    "from qiskit.providers.aer import AerSimulator\n",
    "sim = AerSimulator() #making a new simulator object "
   ]
  },
  {
   "cell_type": "code",
   "execution_count": null,
   "metadata": {},
   "outputs": [],
   "source": [
    "qc = QuantumCircuit(3, 3) #first parameter denotes quantum bits and second denotes classical bits\n",
    "qc.draw()"
   ]
  },
  {
   "cell_type": "code",
   "execution_count": null,
   "metadata": {},
   "outputs": [],
   "source": [
    "# measure qubits 0, 1 & 2 to classical bits 0, 1 & 2 respectively\n",
    "qc.measure([0, 1, 2], [0, 1, 2])\n",
    "qc.draw()"
   ]
  },
  {
   "cell_type": "code",
   "execution_count": null,
   "metadata": {},
   "outputs": [],
   "source": [
    "job = sim.run(qc) #run the experiment\n",
    "result = job.result() #get the results\n",
    "result.get_counts() #interpret the results as a dictionary named counts"
   ]
  },
  {
   "attachments": {},
   "cell_type": "markdown",
   "metadata": {},
   "source": [
    "### Encoding an input"
   ]
  },
  {
   "cell_type": "code",
   "execution_count": null,
   "metadata": {},
   "outputs": [],
   "source": [
    "qc = QuantumCircuit(3, 3)\n",
    "qc.x([0, 1]) # perform x gates on qubits 0 and 1\n",
    "qc.measure([0, 1, 2], [0, 1, 2])\n",
    "qc.draw()"
   ]
  },
  {
   "cell_type": "code",
   "execution_count": null,
   "metadata": {},
   "outputs": [],
   "source": [
    "job = sim.run(qc)\n",
    "result = job.result()\n",
    "result.get_counts()"
   ]
  },
  {
   "attachments": {},
   "cell_type": "markdown",
   "metadata": {},
   "source": [
    "### Creating A Half Adder Circuit\n",
    "For creating an adder we first create a partial half adder circuit\n",
    "#### Creating A Partial Half Adder Circuit"
   ]
  },
  {
   "cell_type": "code",
   "execution_count": null,
   "metadata": {},
   "outputs": [],
   "source": [
    "qc = QuantumCircuit(2, 2)\n",
    "qc.x(0)\n",
    "qc.cnot(0, 1) #CNOT controlled by qubit 0 and targeting qubit 1\n",
    "qc.measure([0,1], [0, 1])\n",
    "display(qc.draw()) #display the drawing of the circuit\n",
    "\n",
    "job = sim.run(qc)\n",
    "result = job.result()\n",
    "print(\"Result : \", result.get_counts())"
   ]
  },
  {
   "attachments": {},
   "cell_type": "markdown",
   "metadata": {},
   "source": [
    "#### Half Adder Circuit"
   ]
  },
  {
   "cell_type": "code",
   "execution_count": null,
   "metadata": {},
   "outputs": [],
   "source": [
    "half_adder = QuantumCircuit(4, 2)\n",
    "\n",
    "#Encoding the inputs '11' into the ciruit\n",
    "half_adder.x(0)\n",
    "half_adder.x(1)\n",
    "\n",
    "#Carrying out the adder circuit\n",
    "half_adder.cx(0, 2)\n",
    "half_adder.cx(1, 2)\n",
    "half_adder.ccx(0, 1, 3) #Toffoli gate denoted by the .ccx() gate; takes in 3 inputs\n",
    "\n",
    "#Measure the bottom 2 qubits to extract the output\n",
    "half_adder.measure([2, 3], [0, 1])\n",
    "half_adder.draw()"
   ]
  },
  {
   "cell_type": "code",
   "execution_count": null,
   "metadata": {},
   "outputs": [],
   "source": [
    "job = sim.run(half_adder)\n",
    "result = job.result()\n",
    "result.get_counts()"
   ]
  }
 ],
 "metadata": {
  "kernelspec": {
   "display_name": "Python 3 (ipykernel)",
   "language": "python",
   "name": "python3"
  },
  "language_info": {
   "codemirror_mode": {
    "name": "ipython",
    "version": 3
   },
   "file_extension": ".py",
   "mimetype": "text/x-python",
   "name": "python",
   "nbconvert_exporter": "python",
   "pygments_lexer": "ipython3",
   "version": "3.8.10"
  },
  "orig_nbformat": 4
 },
 "nbformat": 4,
 "nbformat_minor": 2
}
