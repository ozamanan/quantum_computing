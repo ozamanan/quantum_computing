{
 "cells": [
  {
   "attachments": {},
   "cell_type": "markdown",
   "metadata": {},
   "source": [
    "### Entangled states"
   ]
  },
  {
   "cell_type": "code",
   "execution_count": null,
   "metadata": {},
   "outputs": [],
   "source": [
    "from qiskit import QuantumCircuit\n",
    "from qiskit.quantum_info import Statevector"
   ]
  },
  {
   "cell_type": "code",
   "execution_count": null,
   "metadata": {},
   "outputs": [],
   "source": [
    "qc = QuantumCircuit(2) #constains two qubits only\n",
    "\n",
    "#This calculates the statevectors of the qubits after passing them throught the circuit qc\n",
    "ket = Statevector(qc)\n",
    "\n",
    "#The code below displays the the state vector\n",
    "#Since it's the last line in the cell, the cell will display it as the output\n",
    "ket.draw()"
   ]
  },
  {
   "cell_type": "code",
   "execution_count": null,
   "metadata": {},
   "outputs": [],
   "source": [
    "qc.cx(0, 1)\n",
    "ket = Statevector(qc)\n",
    "ket.draw()"
   ]
  },
  {
   "cell_type": "code",
   "execution_count": null,
   "metadata": {},
   "outputs": [],
   "source": [
    "qc.cx(1, 0)\n",
    "ket = Statevector(qc)\n",
    "ket.draw()"
   ]
  },
  {
   "cell_type": "code",
   "execution_count": null,
   "metadata": {},
   "outputs": [],
   "source": [
    "qc.x(1)\n",
    "ket = Statevector(qc)\n",
    "ket.draw()"
   ]
  },
  {
   "cell_type": "code",
   "execution_count": null,
   "metadata": {},
   "outputs": [],
   "source": [
    "qc.cx(1, 0)\n",
    "ket = Statevector(qc)\n",
    "ket.draw()"
   ]
  },
  {
   "cell_type": "code",
   "execution_count": 25,
   "metadata": {},
   "outputs": [
    {
     "data": {
      "text/plain": [
       "'Statevector([ 0.70710678+0.j,  0.        +0.j,  0.70710678+0.j,\\n             -0.        +0.j],\\n            dims=(2, 2))'"
      ]
     },
     "execution_count": 25,
     "metadata": {},
     "output_type": "execute_result"
    }
   ],
   "source": [
    "#Lets create anew quantum circuit to observe the entanglement\n",
    "ent_qc = QuantumCircuit(2)\n",
    "\n",
    "ent_qc.h(1)\n",
    "\n",
    "ket = Statevector(ent_qc)\n",
    "ket.draw()"
   ]
  },
  {
   "cell_type": "code",
   "execution_count": 26,
   "metadata": {},
   "outputs": [
    {
     "data": {
      "text/plain": [
       "'Statevector([0.70710678+0.j, 0.        +0.j, 0.        +0.j,\\n             0.70710678+0.j],\\n            dims=(2, 2))'"
      ]
     },
     "execution_count": 26,
     "metadata": {},
     "output_type": "execute_result"
    }
   ],
   "source": [
    "ent_qc.cx(1, 0)\n",
    "\n",
    "ket = Statevector(ent_qc)\n",
    "ket.draw()"
   ]
  }
 ],
 "metadata": {
  "kernelspec": {
   "display_name": "Python 3 (ipykernel)",
   "language": "python",
   "name": "python3"
  },
  "language_info": {
   "codemirror_mode": {
    "name": "ipython",
    "version": 3
   },
   "file_extension": ".py",
   "mimetype": "text/x-python",
   "name": "python",
   "nbconvert_exporter": "python",
   "pygments_lexer": "ipython3",
   "version": "3.8.10"
  },
  "orig_nbformat": 4
 },
 "nbformat": 4,
 "nbformat_minor": 2
}
